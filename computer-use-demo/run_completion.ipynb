{
 "cells": [
  {
   "metadata": {},
   "cell_type": "code",
   "source": [
    "%load_ext autoreload\n",
    "%autoreload 2"
   ],
   "id": "ec0ba21aa4f4fbca",
   "outputs": [],
   "execution_count": null
  },
  {
   "metadata": {
    "collapsed": true
   },
   "cell_type": "code",
   "source": [
    "from dotenv import load_dotenv\n",
    "\n",
    "from computer_use_demo.tools import ComputerTool, ToolCollection\n",
    "\n",
    "load_dotenv()\n",
    "\n",
    "from computer_use_demo.loop import completion, PROVIDER_TO_DEFAULT_MODEL_NAME, APIProvider, SYSTEM_PROMPT\n",
    "import os\n",
    "\n",
    "from playwright.async_api import async_playwright"
   ],
   "id": "initial_id",
   "outputs": [],
   "execution_count": null
  },
  {
   "metadata": {},
   "cell_type": "code",
   "source": "from print_utils import print_conversation, noop",
   "id": "8404bf7d7042e680",
   "outputs": [],
   "execution_count": null
  },
  {
   "metadata": {},
   "cell_type": "code",
   "source": "messages = []",
   "id": "c3749ef9132bca8a",
   "outputs": [],
   "execution_count": null
  },
  {
   "metadata": {},
   "cell_type": "code",
   "source": [
    "playwright = await async_playwright().start()\n",
    "browser = await playwright.chromium.launch(headless=False)\n",
    "page = await browser.new_page(viewport={\"width\": 1024, \"height\": 768})"
   ],
   "id": "3a545d2f09ab7185",
   "outputs": [],
   "execution_count": null
  },
  {
   "metadata": {},
   "cell_type": "code",
   "source": [
    "import base64\n",
    "\n",
    "await page.goto(\"https://stackoverflow.com\")\n",
    "screenshot = await page.screenshot(timeout=0)\n",
    "screenshot_base64 = base64.b64encode(screenshot).decode(\"utf-8\")\n",
    "prompt = {\n",
    "    \"role\": \"user\",\n",
    "    \"content\": [\n",
    "        {\n",
    "            \"type\": \"text\",\n",
    "            \"text\": \"Given the following page, perform all the necessary actions to dismiss/close any popups/dialogs you see. Do not take a screenshot, work with the provided page.\"\n",
    "        },\n",
    "        {\n",
    "            \"type\": \"image\",\n",
    "            \"source\": {\n",
    "                \"type\": \"base64\",\n",
    "                \"media_type\": \"image/png\",\n",
    "                \"data\": screenshot_base64,\n",
    "            },\n",
    "        }\n",
    "    ]\n",
    "}\n",
    "messages.append(prompt)"
   ],
   "id": "b309ef11efe08ac1",
   "outputs": [],
   "execution_count": null
  },
  {
   "metadata": {},
   "cell_type": "code",
   "source": [
    "# import base64\n",
    "# \n",
    "# await page.goto(\"https://www.bidnetdirect.com/colorado/cityandcountyofdenverdepartmentofaviation\")\n",
    "# screenshot = await page.screenshot(timeout=0)\n",
    "# screenshot_base64 = base64.b64encode(screenshot).decode(\"utf-8\")\n",
    "# prompt = {\n",
    "#     \"role\": \"user\",\n",
    "#     \"content\": [\n",
    "#         {\n",
    "#             \"type\": \"text\",\n",
    "#             \"text\": \"Given the following page, find the closed contracts. Do not ask for a screenshot, work with the provided screenshot.\"\n",
    "#         },\n",
    "#         {\n",
    "#             \"type\": \"image\",\n",
    "#             \"source\": {\n",
    "#                 \"type\": \"base64\",\n",
    "#                 \"media_type\": \"image/png\",\n",
    "#                 \"data\": screenshot_base64,\n",
    "#             },\n",
    "#         }\n",
    "#     ]\n",
    "# }\n",
    "# messages = [prompt]"
   ],
   "id": "9510b294f2787f1d",
   "outputs": [],
   "execution_count": null
  },
  {
   "metadata": {},
   "cell_type": "code",
   "source": [
    "# import base64\n",
    "# \n",
    "# await page.goto(\"https://smctd.bonfirehub.com/portal/?tab=openOpportunities\")\n",
    "# screenshot = await page.screenshot(timeout=0)\n",
    "# screenshot_base64 = base64.b64encode(screenshot).decode(\"utf-8\")\n",
    "# prompt = {\n",
    "#     \"role\": \"user\",\n",
    "#     \"content\": [\n",
    "#         {\n",
    "#             \"type\": \"text\",\n",
    "#             \"text\": \"Given the following page, go to the details page of the first contract you see. Do not ask for a screenshot, work with the provided screenshot.\"\n",
    "#         },\n",
    "#         {\n",
    "#             \"type\": \"image\",\n",
    "#             \"source\": {\n",
    "#                 \"type\": \"base64\",\n",
    "#                 \"media_type\": \"image/png\",\n",
    "#                 \"data\": screenshot_base64,\n",
    "#             },\n",
    "#         }\n",
    "#     ]\n",
    "# }\n",
    "# messages = [prompt]"
   ],
   "id": "ce16f49a8daba8aa",
   "outputs": [],
   "execution_count": null
  },
  {
   "metadata": {},
   "cell_type": "code",
   "source": [
    "tool_collection = ToolCollection(ComputerTool(page))\n",
    "response = await completion(\n",
    "    model=PROVIDER_TO_DEFAULT_MODEL_NAME[APIProvider.ANTHROPIC],\n",
    "    api_key=os.environ.get(\"ANTHROPIC_API_KEY\"),\n",
    "    provider=APIProvider.ANTHROPIC,\n",
    "    messages=messages,\n",
    "    api_response_callback=noop,\n",
    "    tool_collection=tool_collection,\n",
    ")\n",
    "messages.append({\n",
    "    \"role\": \"assistant\",\n",
    "    \"content\": response,\n",
    "})\n",
    "print_conversation(messages)"
   ],
   "id": "aec0215679169762",
   "outputs": [],
   "execution_count": null
  },
  {
   "metadata": {},
   "cell_type": "code",
   "source": "print_conversation(messages)",
   "id": "d04d787447f11662",
   "outputs": [],
   "execution_count": null
  },
  {
   "metadata": {},
   "cell_type": "code",
   "source": [
    "from typing import Any, cast\n",
    "\n",
    "tool_result_content = []\n",
    "for content_block in response:\n",
    "    if content_block[\"type\"] == \"tool_use\":\n",
    "        result = await tool_collection.run(\n",
    "            name=content_block[\"name\"],\n",
    "            tool_input=cast(dict[str, Any], content_block[\"input\"]),\n",
    "        )\n",
    "        tool_result_content.append(\n",
    "            (result, content_block[\"id\"])\n",
    "        )\n",
    "tool_result_content"
   ],
   "id": "8d2923264216203e",
   "outputs": [],
   "execution_count": null
  }
 ],
 "metadata": {
  "kernelspec": {
   "display_name": "Python 3",
   "language": "python",
   "name": "python3"
  },
  "language_info": {
   "codemirror_mode": {
    "name": "ipython",
    "version": 2
   },
   "file_extension": ".py",
   "mimetype": "text/x-python",
   "name": "python",
   "nbconvert_exporter": "python",
   "pygments_lexer": "ipython2",
   "version": "2.7.6"
  }
 },
 "nbformat": 4,
 "nbformat_minor": 5
}
