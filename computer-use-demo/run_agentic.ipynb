{
 "cells": [
  {
   "metadata": {},
   "cell_type": "code",
   "source": [
    "%load_ext autoreload\n",
    "%autoreload 2"
   ],
   "id": "96786285ed38e8c2",
   "outputs": [],
   "execution_count": null
  },
  {
   "metadata": {
    "collapsed": true
   },
   "cell_type": "code",
   "source": [
    "from dotenv import load_dotenv\n",
    "load_dotenv()\n",
    "\n",
    "import asyncio\n",
    "\n",
    "from computer_use_demo.loop import sampling_loop, PROVIDER_TO_DEFAULT_MODEL_NAME, APIProvider, SYSTEM_PROMPT\n",
    "import os\n",
    "\n",
    "from playwright.async_api import async_playwright"
   ],
   "id": "initial_id",
   "outputs": [],
   "execution_count": null
  },
  {
   "metadata": {},
   "cell_type": "code",
   "source": [
    "playwright = await async_playwright().start()\n",
    "browser = await playwright.chromium.launch(headless=False)\n",
    "page = await browser.new_page(viewport={\"width\": 1024, \"height\": 768})"
   ],
   "id": "7f0be59ab23c2ba3",
   "outputs": [],
   "execution_count": null
  },
  {
   "metadata": {},
   "cell_type": "code",
   "source": "messages = []",
   "id": "624111e535c33d71",
   "outputs": [],
   "execution_count": null
  },
  {
   "metadata": {},
   "cell_type": "code",
   "source": [
    "from print_utils import noop\n",
    "from conversation_utils import display_conversation_markdown\n",
    "\n",
    "\n",
    "def print_diff(old_messages, new_messages):\n",
    "    # old_messages_set = set(old_messages)\n",
    "    messages_to_print = [\n",
    "        message for message in new_messages if message not in old_messages\n",
    "    ]\n",
    "    display_conversation_markdown(messages_to_print)\n",
    "    old_messages.extend(messages_to_print)\n",
    "            \n",
    "async def converse():\n",
    "    old_messages = [*messages]\n",
    "    await sampling_loop(\n",
    "            model=PROVIDER_TO_DEFAULT_MODEL_NAME[APIProvider.ANTHROPIC],\n",
    "            api_key=os.environ.get(\"ANTHROPIC_API_KEY\"),\n",
    "            provider=APIProvider.ANTHROPIC,\n",
    "            messages=messages,\n",
    "            system_prompt_suffix=\"\",\n",
    "            output_callback=lambda _: print_diff(old_messages, messages),\n",
    "            tool_output_callback=lambda _, __: print_diff(old_messages, messages),\n",
    "            api_response_callback=noop,\n",
    "            page=page,\n",
    "        )\n",
    "    await asyncio.sleep(0.1)"
   ],
   "id": "20e9431cdd08eba6",
   "outputs": [],
   "execution_count": null
  },
  {
   "metadata": {},
   "cell_type": "code",
   "source": [
    "user_message = input()\n",
    "if len(user_message) > 0:\n",
    "    messages.append({\n",
    "        \"role\": \"user\",\n",
    "        \"content\": user_message\n",
    "    })\n",
    "    await converse()\n",
    "    "
   ],
   "id": "8eeb0450326a0bc0",
   "outputs": [],
   "execution_count": null
  },
  {
   "metadata": {},
   "cell_type": "code",
   "source": "display_conversation_markdown(messages)",
   "id": "c5908d6ab51090f0",
   "outputs": [],
   "execution_count": null
  },
  {
   "metadata": {},
   "cell_type": "code",
   "source": [
    "await browser.close()\n",
    "await playwright.stop()"
   ],
   "id": "ce12ced71f2bf8e6",
   "outputs": [],
   "execution_count": null
  },
  {
   "metadata": {},
   "cell_type": "code",
   "source": [
    "from conversation_utils import save_conversation\n",
    "\n",
    "save_conversation(messages, \"outputs/americanino_with_xpath.json\")"
   ],
   "id": "de6fb4de87332f96",
   "outputs": [],
   "execution_count": null
  },
  {
   "metadata": {},
   "cell_type": "code",
   "source": [
    "from dotenv import load_dotenv\n",
    "load_dotenv()\n",
    "from conversation_utils import load_conversation, replay_conversation\n",
    "\n",
    "loaded = load_conversation(\"outputs/americanino_with_xpath.json\")\n",
    "loaded_playwright, browser, context, page, tools, tool_uses = await replay_conversation(\n",
    "    loaded\n",
    ")"
   ],
   "id": "c883d8d2a6970b4d",
   "outputs": [],
   "execution_count": null
  }
 ],
 "metadata": {
  "kernelspec": {
   "display_name": "Python 3",
   "language": "python",
   "name": "python3"
  },
  "language_info": {
   "codemirror_mode": {
    "name": "ipython",
    "version": 2
   },
   "file_extension": ".py",
   "mimetype": "text/x-python",
   "name": "python",
   "nbconvert_exporter": "python",
   "pygments_lexer": "ipython2",
   "version": "2.7.6"
  }
 },
 "nbformat": 4,
 "nbformat_minor": 5
}
