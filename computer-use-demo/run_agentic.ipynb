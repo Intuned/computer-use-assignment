{
 "cells": [
  {
   "metadata": {},
   "cell_type": "code",
   "source": [
    "%load_ext autoreload\n",
    "%autoreload 2"
   ],
   "id": "96786285ed38e8c2",
   "outputs": [],
   "execution_count": null
  },
  {
   "metadata": {
    "collapsed": true
   },
   "cell_type": "code",
   "source": [
    "from dotenv import load_dotenv\n",
    "load_dotenv()\n",
    "\n",
    "import asyncio\n",
    "\n",
    "from computer_use_demo.loop import sampling_loop, PROVIDER_TO_DEFAULT_MODEL_NAME, APIProvider, SYSTEM_PROMPT\n",
    "import os\n",
    "\n",
    "from playwright.async_api import async_playwright"
   ],
   "id": "initial_id",
   "outputs": [],
   "execution_count": null
  },
  {
   "metadata": {},
   "cell_type": "code",
   "source": [
    "playwright = await async_playwright().start()\n",
    "browser = await playwright.chromium.launch(headless=False)\n",
    "page = await browser.new_page(viewport={\"width\": 1024, \"height\": 768})"
   ],
   "id": "7f0be59ab23c2ba3",
   "outputs": [],
   "execution_count": null
  },
  {
   "metadata": {},
   "cell_type": "code",
   "source": "messages = []",
   "id": "624111e535c33d71",
   "outputs": [],
   "execution_count": null
  },
  {
   "metadata": {},
   "cell_type": "code",
   "source": [
    "from print_utils import print_conversation, print_stuff, noop\n",
    "            \n",
    "async def converse():\n",
    "    await sampling_loop(\n",
    "            model=PROVIDER_TO_DEFAULT_MODEL_NAME[APIProvider.ANTHROPIC],\n",
    "            api_key=os.environ.get(\"ANTHROPIC_API_KEY\"),\n",
    "            provider=APIProvider.ANTHROPIC,\n",
    "            messages=messages,\n",
    "            system_prompt_suffix=\"\",\n",
    "            output_callback=print_stuff,\n",
    "            tool_output_callback=print_stuff,\n",
    "            api_response_callback=noop,\n",
    "            page=page,\n",
    "        )\n",
    "    await asyncio.sleep(0.1)"
   ],
   "id": "20e9431cdd08eba6",
   "outputs": [],
   "execution_count": null
  },
  {
   "metadata": {},
   "cell_type": "code",
   "source": [
    "user_message = input()\n",
    "if len(user_message) > 0:\n",
    "    messages.append({\n",
    "        \"role\": \"user\",\n",
    "        \"content\": user_message\n",
    "    })\n",
    "    await converse()\n",
    "    print_conversation(messages)"
   ],
   "id": "8eeb0450326a0bc0",
   "outputs": [],
   "execution_count": null
  },
  {
   "metadata": {},
   "cell_type": "code",
   "source": "print_conversation(messages)",
   "id": "c5908d6ab51090f0",
   "outputs": [],
   "execution_count": null
  },
  {
   "metadata": {},
   "cell_type": "code",
   "source": [
    "await browser.close()\n",
    "await playwright.stop()"
   ],
   "id": "ce12ced71f2bf8e6",
   "outputs": [],
   "execution_count": null
  },
  {
   "metadata": {},
   "cell_type": "code",
   "source": "",
   "id": "de6fb4de87332f96",
   "outputs": [],
   "execution_count": null
  }
 ],
 "metadata": {
  "kernelspec": {
   "display_name": "Python 3",
   "language": "python",
   "name": "python3"
  },
  "language_info": {
   "codemirror_mode": {
    "name": "ipython",
    "version": 2
   },
   "file_extension": ".py",
   "mimetype": "text/x-python",
   "name": "python",
   "nbconvert_exporter": "python",
   "pygments_lexer": "ipython2",
   "version": "2.7.6"
  }
 },
 "nbformat": 4,
 "nbformat_minor": 5
}
